{
 "cells": [
  {
   "metadata": {},
   "cell_type": "markdown",
   "source": "# Week-05: Application 1 - Simulation Studies ",
   "id": "bf73d7a92f5331c7"
  },
  {
   "metadata": {},
   "cell_type": "markdown",
   "source": [
    "<font size=\"4\"> \n",
    "\n",
    "In this class we will:\n",
    "\n",
    "- Talk about how to use simulatons for statistical inference\n",
    "- Plot the results of simulation studies"
   ],
   "id": "6adda4ab0bf7d10e"
  },
  {
   "metadata": {},
   "cell_type": "markdown",
   "source": "## 1. Import Libraries ",
   "id": "d02bf6f1ed550eb5"
  },
  {
   "metadata": {},
   "cell_type": "code",
   "outputs": [],
   "execution_count": null,
   "source": [
    "# the \"numPy\" library is used for mathematical operations\n",
    "# the \"matplotlib\" library is for generating graphs\n",
    "# the \"pandas\" library is for manipualting datasets\n",
    "# write your own code\n",
    "import numpy as np\n",
    "import pandas as pd\n",
    "import matplotlib.pyplot as plt"
   ],
   "id": "ef46b532f53f7364"
  },
  {
   "metadata": {},
   "cell_type": "markdown",
   "source": "## 2. Simulate Continuous Random Variables ",
   "id": "3131111dd5942ce3"
  },
  {
   "metadata": {},
   "cell_type": "markdown",
   "source": [
    "<font size = \"4\" >\n",
    "\n",
    "Consider a sample with $n$ observations\n",
    "\n",
    "$ X = \\begin{pmatrix} X_1 \\\\ X_2 \\\\ \\vdots \\\\ X_n \\end{pmatrix}.$"
   ],
   "id": "edbb29f0e230e6df"
  },
  {
   "metadata": {},
   "cell_type": "markdown",
   "source": [
    "<font size = \"4\" > \n",
    "\n",
    "We simulate from different distributions:\n",
    "- Normal (mean=1, variance=4) with `np.random.normal()`\n",
    "- Chi-square (degrees of freedom, df=1) with `np.random.chisquare()`\n",
    "- Uniform (taking values between -5 and 5) with `np.random.uniform()`"
   ],
   "id": "fb1d4f307c7646be"
  },
  {
   "metadata": {},
   "cell_type": "code",
   "outputs": [],
   "execution_count": null,
   "source": [
    "# Set Sample size \n",
    "# These produce several common distributions\n",
    "# A normal distribution with \"loc\" (mean) 1 and \"scale\" (standard deviation) 2\n",
    "# A chi-square distribution with 1 \"df\" degrees of freedom\n",
    "# A uniform distribution with values between -5 and 5\n",
    "\n",
    "# Set seed for reproducibility\n",
    "\n",
    "# Sample size\n",
    "\n",
    "# Simulate random variables\n"
   ],
   "id": "808270be6c4b271c"
  },
  {
   "metadata": {},
   "cell_type": "markdown",
   "source": [
    "## 3. Report Summary Statistics\n",
    "\n",
    "<font size = \"4\">\n",
    "\n",
    "- One of the most important thing to perform data analysis is to check its summary statistics!\n",
    "- You are expected to know the concept of normality assumption and what summary statistics to report given the normality assumption.\n",
    "- <span style=\"color:red\">If a random variable is normally distributed, we report **mean** and **std**, otherwise, we report **median, (Q1, Q3)**.</span>\n",
    "- Compute mean, std, median, Q1, and Q3 for each random vector. Useful functions include\n",
    "    - `np.mean(), np.std()`\n",
    "    - `np.median(), np.quantile()`\n",
    "- Name summary statistics of each random vector as\n",
    "    - {dist_name}_mean_val, {dist_name}_std_val\n",
    "    - {dist_name}_median_val, {dist_name}_q1_val, {dist_name}_q3_val\n",
    "- Recall Q1 and Q3 correspond to 25% and 75% percentiles of a random sample if we sort them from smallest to largest value. Median is also known as Q2.\n",
    "- A shortcut to export Q1 and Q3 is to use `,`\n",
    "    - In `np.quantile(a, q)`, `q` refers to the percentile value. `q` can be a decimal between $0$ and $1$ or a list of decimal values.\n",
    "    - https://numpy.org/doc/stable/reference/generated/numpy.quantile.html\n",
    "    - You can write `val_1, val_2 = np.quantile(vec_name, q=[q1, q2])`\n",
    "    - You can even write `mean_1, sd_1 = np.mean(vec_1), np.std(vec_1)` to save space.\n",
    "- If we only want to report the number up to two digits after the decimal, we can use `np.round(n, decimals=2)`."
   ],
   "id": "d3eabfeedff15ff5"
  },
  {
   "metadata": {},
   "cell_type": "code",
   "outputs": [],
   "execution_count": null,
   "source": "# Write your own code\n",
   "id": "eb5bb64416211f16"
  },
  {
   "metadata": {},
   "cell_type": "markdown",
   "source": [
    "<font size='4'>\n",
    "\n",
    "- Print out all summary statistics in one sentence per distribution using `.format()` syntax.\n",
    "- For example, you can write\n",
    "    - `print('For normal vector, mean={}, std={}, median={}, q1={}, and q3={}'.format(norm_mean_val, norm_std_val, norm_median_val, norm_q1_val, norm_q3_val))`"
   ],
   "id": "e5f03bb5ef6de791"
  },
  {
   "metadata": {},
   "cell_type": "code",
   "outputs": [],
   "execution_count": null,
   "source": "# write your own code for all three random vectors.\n",
   "id": "d62105b519032e6a"
  },
  {
   "metadata": {},
   "cell_type": "markdown",
   "source": [
    "<font size='4'>\n",
    "\n",
    "- That is a lot of coding. Can we simplify it using the for loop?\n",
    "- Let's first create a big list `summary_stats_ls` of which element is another list that stores name of the distribution, mean, std, median, q1, and q3 for each random vector.\n",
    "- For example, create three lists named `norm_stats_ls`, `chisq_stats_ls`, and `unif_stats_ls` and fill in the values in the above order.\n",
    "- Write a for loop to print out the summary statistics for each distribution.\n",
    "- This involves indexing the element of a list (and nested list)."
   ],
   "id": "5c8188f730983345"
  },
  {
   "metadata": {},
   "cell_type": "code",
   "outputs": [],
   "execution_count": null,
   "source": [
    "# Write your own code\n",
    "# Let's refresh the memory of the for loop!\n",
    "# norm_stats_ls = ['normal', norm_mean_val, ...]\n",
    "# ...\n",
    "\n",
    "# summary_stats_ls = [norm_stats_ls, chisq_stats_ls, unif_stats_ls]\n",
    "# Use one of the three ways to write the for loop\n"
   ],
   "id": "bab674848b135fa7"
  },
  {
   "metadata": {},
   "cell_type": "markdown",
   "source": "### 3.1. Can we further simplify it by using a nested for loop? Think about it first.",
   "id": "148673a5f3a8c9f4"
  },
  {
   "metadata": {},
   "cell_type": "markdown",
   "source": [
    "## 4. Multiple plots in a row (subplot)\n",
    "<font size = \"4\">\n",
    "\n",
    "- Previously, we learned how to create multiple plots and save those in multiple figures.\n",
    "- We can create multiple plots in the same figure using `plt.subplots()` function.\n",
    "- We initialize a figure with (multiple) axes using `fig_name, list_subfig = plt.subplots(nrows, ncols, figsize=(9,3))`\n",
    "    - If we want to create three figures within the same row, then `nrows=1` and `ncols=3`.\n",
    "    - `figsize=(num1, num2)`, where `num1` and `num2` refer to width and height, respectively.\n",
    "- Then we use `list_subfig[0]` to identify the first figure (row 1 & column 3), similarly for `list_subfig[1]` and `list_subfig[2]`.\n",
    "- For each subfigure, we use `list_subfig[0].plot()` (or `list_subfig[0].hist()` in our case) to generate figures.\n",
    "- Note that the functions to label x and y axes and title are slightly different.\n",
    "    - `.set_xlabel()`\n",
    "    - `.set_ylabel()`\n",
    "    - `.set_title()`\n",
    "- Use `plt.show()` to display the figure and other optional functions to modify the size and details of the figures."
   ],
   "id": "4770733ed76f3c26"
  },
  {
   "metadata": {},
   "cell_type": "code",
   "outputs": [],
   "execution_count": null,
   "source": [
    "# Create a plot with 1 row, 3 columns\n",
    "# You will create a list of subfigures \"list_subfig\"\n",
    "# You can choose whichever name you like\n",
    "# The option \"figsize\" indicates the (width, height) of the graph\n",
    "\n",
    "fig, list_subfig = plt.subplots(1, 3, figsize = (9,3))\n",
    "\n",
    "# First Figure\n",
    "list_subfig[0].hist(x = normal_vec)\n",
    "list_subfig[0].set_title(\"Normal Distribution\")\n",
    "list_subfig[0].set_xlabel(\"Value\")\n",
    "list_subfig[0].set_ylabel(\"Frequency\")\n",
    "\n",
    "# Second Figure\n",
    "list_subfig[1].hist(x = chisq_vec)\n",
    "list_subfig[1].set_title(\"Chi-squared Distribution\")\n",
    "list_subfig[1].set_xlabel(\"Value\")\n",
    "list_subfig[1].set_ylabel(\"Frequency\")\n",
    "\n",
    "# Complete the third figure (write your own code below)\n",
    "\n",
    "\n",
    "# The tight layout option ensures that the axes are not overlapping\n",
    "plt.tight_layout()\n",
    "\n",
    "# Adjust the spacing between subplots\n",
    "plt.subplots_adjust(wspace=0.3)  # Adjust the value as needed\n",
    "\n",
    "plt.show()\n",
    "\n",
    "# Note:\n",
    "# Use the set_title() function for the title of subfigures\n",
    "# Similarly, use \"set_xlabel()\" and \"set_ylabel()\"\n",
    "\n"
   ],
   "id": "41c23842c93e87ea"
  },
  {
   "metadata": {},
   "cell_type": "markdown",
   "source": [
    "### What if we want to organize the figure to be 2x2?\n",
    "\n",
    "<font size = \"4\">\n",
    "    \n",
    "- Modify the `nrows` and `ncols` in the subplot initialization.\n",
    "    - Give it a different figure and axes names, such as `fig2, list_subfig2`.\n",
    "- Modify the index to identify each subplot.\n",
    "    - For normal distribution, the index is modified to `list_subfig2[0,0]`, which means the first row and first column.\n",
    "    - Remember that the index always starts from 0!"
   ],
   "id": "6f83e0d383bd1c42"
  },
  {
   "metadata": {},
   "cell_type": "code",
   "outputs": [],
   "execution_count": null,
   "source": [
    "# Write down your code\n",
    "\n",
    "# Create a plot with 2 row, 2 columns\n",
    "# You will create a list of subfigures \"list_subfig2\"\n",
    "# For consistency, we use list_subfig2 here, but you can change it to any name you want!\n",
    "# The option \"figsize\" indicates the (width,height) of the graph, we may need to change it if we convert 1x3 to 2x2.\n",
    "# The first row contains normal and chi-square, while the second row only contains uniform distribution.\n",
    "# Complete the code and show the final subplots.\n",
    "\n",
    "\n"
   ],
   "id": "576c6393dc46b3fe"
  },
  {
   "metadata": {},
   "cell_type": "markdown",
   "source": "## 5. Sequences",
   "id": "95bd7d3619786692"
  },
  {
   "metadata": {},
   "cell_type": "markdown",
   "source": [
    "<font size = \"4\">\n",
    "\n",
    "- Basic syntax: `list(range(start, stop, step))`\n",
    "    - `start`: the first number in the sequence\n",
    "    - `stop`: the last number in the sequence **(not included)**\n",
    "    - `step`: the difference between adjacent numbers in the sequence\n",
    "- If `start` is omitted, `start=0`.\n",
    "- If `step` is omitted, `step=1`.\n",
    "- Remember to convert it to a list, otherwise it is a `range` data type."
   ],
   "id": "cebc93f260ed2995"
  },
  {
   "metadata": {},
   "cell_type": "code",
   "outputs": [],
   "execution_count": null,
   "source": [
    "# Example:\n",
    "print(list(range(10)))\n",
    "print(list(range(1,10)))\n",
    "print(list(range(1,10,2)))\n",
    "\n",
    "print(list(range(1,10,1.5)))"
   ],
   "id": "2a533a86d4a499c6"
  },
  {
   "metadata": {},
   "cell_type": "code",
   "outputs": [],
   "execution_count": null,
   "source": [
    "print(np.arange(10))\n",
    "print(np.arange(1,10))\n",
    "print(np.arange(1,10,2))\n",
    "# For np.arange, it supports non-integer step.\n",
    "print(np.arange(1,10,0.5))"
   ],
   "id": "189fe05b23219598"
  },
  {
   "metadata": {},
   "cell_type": "code",
   "outputs": [],
   "execution_count": null,
   "source": [
    "# Use `list(range())` to create the following lists:\n",
    "# Create a list with the integer numbers from 0 to 100, denoted as int_ls\n",
    "# Create a list with the even numbers from 1 to 100, denoted as even_ls\n",
    "\n",
    "# Find the first 10 elements of int_ls and even_ls\n",
    "\n",
    "# Find the elements excluding the first two elements of int_ls and even_ls.\n"
   ],
   "id": "feff3ef3a9ea318c"
  },
  {
   "metadata": {},
   "cell_type": "markdown",
   "source": [
    "## 6. Nested Loops \n",
    "\n",
    "- We can nest loops inside each other to iterate over multiple dimensions 🤯\n",
    "- The inner loop runs to completion for each iteration of the outer loop\n",
    "- This is useful when we need to iterate over a matrix or a list of lists\n",
    "- The syntax is simple: [just write a loop inside another loop](https://www.w3schools.com/python/python_nested_loops.asp)\n",
    "- The inner loop is indented twice: once for the outer loop and once for the inner loop"
   ],
   "id": "1b91a4933ca6f018"
  },
  {
   "metadata": {},
   "cell_type": "code",
   "outputs": [],
   "execution_count": null,
   "source": [
    "for i in range(4):\n",
    "    for j in range(3):\n",
    "        print(\"i = {}, j = {}\".format(i, j))"
   ],
   "id": "5b195ddb60c540e6"
  },
  {
   "metadata": {},
   "cell_type": "markdown",
   "source": [
    "## 7. Central Limit Theorem\n",
    "\n",
    "<font size='4'>\n",
    "\n",
    "- The CLT is a fundamental concept in statistics.\n",
    "- It states that the distribution of the mean (or sum) of many independent, identically distributed random variables approaches to a normal distribution, regardless of the original distribution\n",
    "- This is true even if the original distribution is NOT normal.\n",
    "- Let $\\bar{X}$ be the sample mean of a random vector $(X_1,\\cdots,X_n)$.\n",
    "- What happens to $\\bar{X}$ with different $n$?\n",
    "    - The Central Limit Theorem makes a prediction!\n",
    "    - It says that the distribution will have a bell shape with higher $n$.\n",
    "- Let's verify CLT by simulating random vectors from a uniform distribution from $-4$ to $5$."
   ],
   "id": "26f682a3e0773188"
  },
  {
   "metadata": {},
   "cell_type": "code",
   "outputs": [],
   "execution_count": null,
   "source": [
    "# One way is to write this with repeated code chunks\n",
    "# Each time will start the process of generating new data from scratch.\n",
    "\n",
    "iteration_num = 1000\n",
    "\n",
    "# Simulate with sample size one\n",
    "sample_size_n = 1\n",
    "unif_vec1 = []\n",
    "for iter_num in range(iteration_num):\n",
    "    pass \n",
    "    # remove pass when you write the code\n",
    "    # vec_unif_iter = ?\n",
    "    # unif_vec1.append(float(np.mean(vec_unif_iter)))\n",
    "    # or \n",
    "    # unif_vec1.append(float(vec_unif_iter.mean()))\n",
    "    # use float to convert numpy.float64 to float numbers"
   ],
   "id": "9783d6a86d4f3ce2"
  },
  {
   "metadata": {},
   "cell_type": "code",
   "outputs": [],
   "execution_count": null,
   "source": [
    "# Write your own code for sample_size_n=10, 50, and 100\n",
    "# Name it as unif_vec10, unif_vec50, and unif_vec100, respectively.\n",
    "# You can recycle vec_unif_iter because it will be updated automatically once you assign the value from np.random.uniform to it.\n",
    "# Similarly, you can recycle iter_num.\n"
   ],
   "id": "53d75effb7e49a3f"
  },
  {
   "metadata": {},
   "cell_type": "code",
   "outputs": [],
   "execution_count": null,
   "source": [
    "# Suppose that you have unif_vec1, unif_vec10, unif_vec50, and unif_vec100\n",
    "# Create a 2x2 subplot to display histograms of above four random variables.\n",
    "# The first row: unif_vec1 (left) and unif_vec10 (right)\n",
    "# The second row: unif_vec50 (left) and unif_vec100 (right)\n"
   ],
   "id": "d6095ef5a980de93"
  },
  {
   "metadata": {},
   "cell_type": "markdown",
   "source": [
    "<font size = \"5\">\n",
    "Nested Loops"
   ],
   "id": "d8892aec16abc851"
  },
  {
   "metadata": {},
   "cell_type": "code",
   "outputs": [],
   "execution_count": null,
   "source": [
    "# To evaluate different sample size which just have to write a for-loop within \n",
    "# another for-loop\n",
    "\n",
    "iteration_num = 1000\n",
    "sample_size_ls = [1,10,50,100]\n",
    "unif_vec_ls_ls = []\n",
    "\n",
    "for sample_size in sample_size_list:\n",
    "\n",
    "    # initialize unif_vec_sample_size_ls first\n",
    "    pass\n",
    "\n",
    "# print(unif_vec_ls_ls)\n",
    "# It will be a list with four element, and each element is another list with 1000 floating numbers.\n",
    "# This time, let's create a 1x4 subplot to show them in the same row.\n"
   ],
   "id": "2eb15613f4a151b"
  },
  {
   "metadata": {},
   "cell_type": "markdown",
   "source": [
    "## 8. For Loops + if/else statements\n",
    "\n",
    "<font size='4'>\n",
    "\n",
    "- In addition to nested for loop, we can write `if/else` statements within the for loop.\n",
    "- General syntax looks like:\n",
    "  \n",
    "`for iter_id in total_ls:` <br>\n",
    "`    if condition1:` <br>\n",
    "`        statement1` <br>\n",
    "`    else:` <br>\n",
    "`        statement2` <br>"
   ],
   "id": "582247cf365f12be"
  },
  {
   "metadata": {},
   "cell_type": "markdown",
   "source": [
    "<font size='4'>\n",
    "\n",
    "- We illustrate this function via simulating discrete random variable from a uniform distribution.\n",
    "- Suppose we want to randomize a clinical trial of two treatment groups to a $N_{total}$ patients with a 2:1 ratio, how can we generate the treatment group id for each participant to make it **random** and approximately follow the **2:1** ratio?\n",
    "- We define two treatment groups as 1 and 2 such that the number of group 1 is 2 times the number of group 2.\n",
    "- We can generate a random variable $U\\sim Uniform(0,1)$.\n",
    "- If $U<2/3$, we assign it to group 1, otherwise, we assign it to group 2.\n",
    "- We replicate it for $N_{total}$ times, which is the number of participants in the clinical trial."
   ],
   "id": "4ed78a49b77ff1cc"
  },
  {
   "metadata": {},
   "cell_type": "code",
   "outputs": [],
   "execution_count": null,
   "source": [
    "# write your own code\n",
    "# define N_total (the number of patients)\n",
    "N_total = 1000\n",
    "\n",
    "# set seed\n",
    "np.random.seed(100)\n",
    "\n",
    "# Initialize an empty list (or an array) to save the treatment group id.\n",
    "treatment_ls = []\n",
    "for n_iter in range(N_total):\n",
    "    # simulate a random variable from uniform distribution (0,1)\n",
    "    u_iter = np.random.uniform(low=0, high=1, size=None)\n",
    "    if u_iter < 2/3:\n",
    "        treatment_ls.append(1)\n",
    "    else:\n",
    "        treatment_ls.append(2)\n",
    "\n",
    "treatment_ls = np.array(treatment_ls)\n",
    "# print out the first ten samples\n",
    "print(treatment_ls[:10])\n",
    "print('Group 1 has {} patients, while group 2 has {} patients'.format(\n",
    "    np.sum(treatment_ls == 1), np.sum(treatment_ls == 2))\n",
    ")\n",
    "\n",
    "# Notice that when sample size is small, the ratio may not be exactly 2:1 due to the randomness.\n",
    "# If you change your N_total from 100 to 1000, your results will be closer to 2:1."
   ],
   "id": "9ca3ffa43b396c87"
  },
  {
   "metadata": {},
   "cell_type": "markdown",
   "source": [
    "<font size='4'>\n",
    "\n",
    "- What if we have three treatment groups with a 2:2:1 ratio? (This will be part of your HW5).\n",
    "- Expand your current one cutoff to two cutoffs."
   ],
   "id": "a8f2b670cf1b95c7"
  }
 ],
 "metadata": {},
 "nbformat": 4,
 "nbformat_minor": 5
}
