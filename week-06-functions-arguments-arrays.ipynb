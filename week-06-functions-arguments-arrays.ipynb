{
 "cells": [
  {
   "metadata": {},
   "cell_type": "markdown",
   "source": "# Week-06: Functions and Arrays",
   "id": "dc771a74549a8cb0"
  },
  {
   "metadata": {},
   "cell_type": "markdown",
   "source": "## 1. Import Libraries ",
   "id": "46075d470244b1ab"
  },
  {
   "metadata": {},
   "cell_type": "code",
   "outputs": [],
   "execution_count": null,
   "source": [
    "# the \"numPy\" library is used for mathematical operations\n",
    "# the \"matplotlib\" library is for generating graphs\n",
    "# the \"pandas\" library is for manipualting datasets\n",
    "\n",
    "import numpy as np\n",
    "import matplotlib.pyplot as plt\n",
    "import pandas as pd"
   ],
   "id": "fcbd39ebbe4cf138"
  },
  {
   "metadata": {},
   "cell_type": "markdown",
   "source": "## 2. Introduction to Functions ",
   "id": "6440f4b162e1cee7"
  },
  {
   "metadata": {},
   "cell_type": "markdown",
   "source": [
    "<font size=\"4\"> \n",
    "\n",
    "A function is ...\n",
    "\n",
    "- a **block of reusable** code to perform a a specific task\n",
    "- Functions avoid repetition\n",
    "- As our code grows larger, functions make it more manageable\n",
    "\n"
   ],
   "id": "ab3e12a8e46057c2"
  },
  {
   "metadata": {},
   "cell_type": "markdown",
   "source": [
    "<font size = \"4\">\n",
    "\n",
    "Enter arguments by assigning parameters"
   ],
   "id": "6406c3772ab4516a"
  },
  {
   "metadata": {},
   "cell_type": "code",
   "outputs": [],
   "execution_count": null,
   "source": [
    "# Here \"df\" and \"size\" are both parameters\n",
    "# They get assigned the arguments \"2\" and \"20\", respectively\n",
    "# The return is a vector of random variables\n",
    "np.random.seed(100)\n",
    "vec_x = np.random.uniform(low=-2, high=2, size=10)"
   ],
   "id": "42a75f4af8c789c2"
  },
  {
   "metadata": {},
   "cell_type": "code",
   "outputs": [],
   "execution_count": null,
   "source": "vec_x",
   "id": "ea4a694fa6028bd7"
  },
  {
   "metadata": {},
   "cell_type": "code",
   "outputs": [],
   "execution_count": null,
   "source": [
    "# Write your own code:\n",
    "# Define vec_y by writing arguments by position:\n",
    "\n",
    "# What if you write vec_y = np.random.uniform(10, -2, 2)\n",
    "vec_y = np.random.uniform(10, -2, 2)\n",
    "print(vec_y)"
   ],
   "id": "26772c61640b35d2"
  },
  {
   "metadata": {},
   "cell_type": "code",
   "outputs": [],
   "execution_count": null,
   "source": [
    "# Write your own code\n",
    "# Define vec_z by writing arguments by name (with whatever order you like)\n",
    "vec_z = np.random.uniform(high=2, low=-2, size=10)\n",
    "print(vec_z)"
   ],
   "id": "ee828ea489ffb4a"
  },
  {
   "metadata": {},
   "cell_type": "markdown",
   "source": "## 3. Customize Functions ",
   "id": "71029746f356b8f1"
  },
  {
   "metadata": {},
   "cell_type": "markdown",
   "source": [
    "<font size = \"4\">\n",
    "\n",
    "You can write your own functions:\n",
    "\n",
    "```python\n",
    "\n",
    "    #---- DEFINE\n",
    "    def my_function(parameter):\n",
    "        body\n",
    "        return expression\n",
    "\n",
    "    #---- RUN\n",
    "    my_function(parameter = argument) \n",
    "\n",
    "    #---- RUN\n",
    "    my_function(argument)\n",
    "```\n",
    "<br>"
   ],
   "id": "5de39fb462455981"
  },
  {
   "metadata": {},
   "cell_type": "markdown",
   "source": [
    "<font size = \"4\">\n",
    "\n",
    "Example 1: Calculate the PMF of a Poisson distribution named `fun_poisson_pmf`.\n",
    "\n",
    "Parameters include `lambda_val` and `k` and return `pmf_val`.\n",
    "\n",
    "$P(X=k)=\\lambda^k \\exp(-\\lambda) / k!, k\\in\\mathbb{N}_0$"
   ],
   "id": "512a285f71f79444"
  },
  {
   "metadata": {},
   "cell_type": "code",
   "outputs": [],
   "execution_count": null,
   "source": [
    "# Write your own code:\n",
    "def compute_fact(input_val):\n",
    "    fact_val = np.prod(np.arange(1, input_val+1))\n",
    "    return fact_val\n",
    "    \n",
    "def fun_poisson_pmf(lambda_val, k):\n",
    "    # k_fact = np.cumprod(np.arange(1,k+1))[-1]\n",
    "    # k_fact = np.prod(np.arange(1,k+1))\n",
    "    # k_fact = compute_fact(k)\n",
    "    k_fact = compute_fact(input_val=k)\n",
    "    pmf_val = lambda_val**k * np.exp(-lambda_val) / k_fact\n",
    "    return pmf_val"
   ],
   "id": "547fd8d18c338192"
  },
  {
   "metadata": {},
   "cell_type": "code",
   "outputs": [],
   "execution_count": null,
   "source": [
    "# Write your own code:\n",
    "# Call your function\n",
    "pmf_1 = fun_poisson_pmf(lambda_val=1.5, k=1)\n",
    "print(pmf_1)\n",
    "\n",
    "pmf_1 = fun_poisson_pmf(1.5, 1)\n",
    "print(pmf_1)\n",
    "\n",
    "lambda_val_2 = 1.5\n",
    "k_2 = 1\n",
    "pmf_1 = fun_poisson_pmf(lambda_val_2, k_2)\n",
    "print(pmf_1)\n",
    "\n",
    "pmf_1 = fun_poisson_pmf(lambda_val=lambda_val_2, k=k_2)\n",
    "print(pmf_1)"
   ],
   "id": "7d640ce3941d669d"
  },
  {
   "metadata": {},
   "cell_type": "code",
   "outputs": [],
   "execution_count": null,
   "source": [
    "# You can know compute the formula with different values\n",
    "# Let's see how much one can gain by investing 50k and 100k\n",
    "# Earning 10% a year for 10 years\n"
   ],
   "id": "6ed92a6fa7cccb88"
  },
  {
   "metadata": {},
   "cell_type": "markdown",
   "source": [
    "<font size = \"4\">\n",
    "\n",
    "Example 2:\n",
    "\n",
    "- Write a function that calculates <br>\n",
    " $f(x) = x^2 + 2x + 1$.\n",
    "\n",
    " - Test your function with $x = 2$ and $x = 3$\n"
   ],
   "id": "85a0fe5a849fc8fa"
  },
  {
   "metadata": {},
   "cell_type": "code",
   "outputs": [],
   "execution_count": null,
   "source": [
    "# Write your own code here\n",
    "def fn_quadratic(input_x):\n",
    "    y = input_x**2 + 2*input_x + 1\n",
    "    return y"
   ],
   "id": "dc76086e96f77b8"
  },
  {
   "metadata": {},
   "cell_type": "code",
   "outputs": [],
   "execution_count": null,
   "source": [
    "# call the function\n",
    "y_1 = fn_quadratic(input_x=2)\n",
    "y_2 = fn_quadratic(input_x=3)\n",
    "print(y_1, y_2)\n",
    "\n",
    "y_1 = fn_quadratic(2)\n",
    "print(y_1)\n",
    "x_val = 2\n",
    "y_1 = fn_quadratic(input_x=x_val)\n",
    "print(y_1)\n",
    "y_1 = fn_quadratic(x_val)\n",
    "print(y_1)"
   ],
   "id": "9dbb98d103589f09"
  },
  {
   "metadata": {},
   "cell_type": "markdown",
   "source": [
    "<font size='4'>\n",
    "Example 3:<br>\n",
    "Call back the nested for loop from the previous class. Below is the prompt and original code.\n",
    "\n",
    "- The CLT is a fundamental concept in statistics.\n",
    "- It states that the distribution of the mean (or sum) of many independent, identically distributed random variables approaches to a normal distribution, regardless of the original distribution\n",
    "- This is true even if the original distribution is NOT normal.\n",
    "- Let $\\bar{X}$ be the sample mean of a random vector $(X_1,\\cdots,X_n)$.\n",
    "- What happens to $\\bar{X}$ with different $n$?\n",
    "    - The Central Limit Theorem makes a prediction!\n",
    "    - It says that the distribution will have a bell shape with higher $n$.\n",
    "- Let's verify CLT by simulating random vectors from a uniform distribution from $-4$ to $5$.\n",
    "- The previous code looks like:\n"
   ],
   "id": "f47d3fee59d3c26f"
  },
  {
   "metadata": {},
   "cell_type": "code",
   "outputs": [],
   "execution_count": null,
   "source": [
    "iteration_num = 1000\n",
    "sample_size_ls = [1,10,50,100]\n",
    "unif_vec_ls_ls = []\n",
    "\n",
    "for sample_size in sample_size_ls:\n",
    "\n",
    "    # initialize unif_vec_sample_size_ls first\n",
    "    unif_vec_sample_size_ls = []\n",
    "    \n",
    "    for iter_num in range(iteration_num):\n",
    "            unif_vec_sample_size_iter  = np.random.uniform(\n",
    "                low = -4, high=5, size = sample_size\n",
    "            )\n",
    "            unif_vec_sample_size_ls.append(\n",
    "                float(np.mean(unif_vec_sample_size_iter))\n",
    "            )\n",
    "\n",
    "    unif_vec_ls_ls.append(unif_vec_sample_size_ls)"
   ],
   "id": "395857199d3312d6"
  },
  {
   "metadata": {},
   "cell_type": "markdown",
   "source": [
    "<font size='4'>\n",
    "\n",
    "- We can write two functions to simplify the process. \n",
    "- It will be easier for you to understand once we wrap up the code with functions. \n",
    "- Try developing this habit to decompose your tasks to multiple functions.\n",
    "- We will start the smallest task unit - **computing sample size mean of a uniform vector**.\n",
    "    - Let the function name be `compute_unif_mean` with parameters `low_val`, `high_val`, and `sample_size_n`.\n",
    "    - Generate a uniform vector using `np.random.uniform()`, give a variable name `unif_vec` and return its sample mean using `np.mean()`.\n",
    "    - Make sure the format inside function is parameter_name = argument_name (by name) or argument_name to follow the order (by position)."
   ],
   "id": "1020fde59433ac4d"
  },
  {
   "metadata": {},
   "cell_type": "code",
   "outputs": [],
   "execution_count": null,
   "source": [
    "# Write your own code\n",
    "def compute_unif_mean(low_val, high_val, sample_size_n):\n",
    "    unif_vec = np.random.uniform(low_val, high_val, sample_size_n)\n",
    "    #  -> by position, the order matters.\n",
    "    # unif_vec = np.random.unifrom(low=low_val, high=high_val, \n",
    "    # size=sample_size_n) -> by name, the order does not matter\n",
    "    return float(np.mean(unif_vec))"
   ],
   "id": "146e8bc01f422af5"
  },
  {
   "metadata": {},
   "cell_type": "markdown",
   "source": [
    "<font size='4'>\n",
    "    \n",
    "- Then, we work on the larger task unit - **looping through `iteration_num` to build a list of sample mean values**.\n",
    "    - Let the function name be `loop_iteration_num_build_ls` with parameters `low_val`, `high_val`, `sample_size_n`, and `iteration_n`.\n",
    "        - Remember to include the parameters for the previous function if you want to call it inside it.\n",
    "    - Initialize an empty list called `unif_vec_sample_size_mean_ls`.\n",
    "    - Write a for loop to iterate `range(iteration_n)`, compute the sample mean of each random vector per iteration, and append it to the list initialized just now.\n",
    "    - Return the list `unif_vec_sample_size_mean_ls`."
   ],
   "id": "b55c989e041a7a0f"
  },
  {
   "metadata": {},
   "cell_type": "code",
   "outputs": [],
   "execution_count": null,
   "source": [
    "# Write your own code\n",
    "def loop_iteration_num_build_ls(\n",
    "    low_val, high_val, sample_size_n, iteration_n\n",
    "):\n",
    "    unif_vec_sample_size_mean_ls = []\n",
    "    for iter_n in range(iteration_n):\n",
    "        sample_mean_iter_n = compute_unif_mean(\n",
    "            low_val, high_val, sample_size_n\n",
    "        )\n",
    "        unif_vec_sample_size_mean_ls.append(sample_mean_iter_n)\n",
    "    return unif_vec_sample_size_mean_ls"
   ],
   "id": "9d85f4249694f5ab"
  },
  {
   "metadata": {},
   "cell_type": "markdown",
   "source": [
    "<font size='4'>\n",
    "\n",
    "- The original process is decomposed into a few smaller tasks.\n",
    "- Initialize the parameter with proper values, i.e., `low_value`, `high_value`, and `iteration_num`.\n",
    "    - Note that it is okay to intialize variable names differently from the parameter names of the function. But you have to observe the rule either by position or by name.\n",
    "- Our code can be further simplified to the following format."
   ],
   "id": "d55f1b8d89f5da7"
  },
  {
   "metadata": {},
   "cell_type": "code",
   "outputs": [],
   "execution_count": null,
   "source": [
    "# Write your own code\n",
    "iteration_num = 1000\n",
    "sample_size_ls = [1,10,50,100]\n",
    "unif_vec_ls_ls = []\n",
    "\n",
    "low_value = -4\n",
    "high_value = 5\n",
    "\n",
    "for sample_size_n in sample_size_ls:\n",
    "    unif_vec_iter_ls = loop_iteration_num_build_ls(\n",
    "        low_value, high_value, sample_size_n, iteration_num\n",
    "    )\n",
    "    unif_vec_ls_ls.append(unif_vec_iter_ls)\n",
    "\n",
    "print(len(unif_vec_ls_ls))\n",
    "print(unif_vec_ls_ls[0][:10])"
   ],
   "id": "e991e0f79bc5898c"
  },
  {
   "metadata": {},
   "cell_type": "markdown",
   "source": [
    "## 4. Lambda Functions \n",
    "\n",
    "<font size = \"4\">\n",
    "\n",
    "\"Lambda Functions\" are defined in one line:\n",
    "\n",
    "```python\n",
    "my_function = lambda parameters: expression\n",
    "```"
   ],
   "id": "e48868ad1c033ac2"
  },
  {
   "metadata": {},
   "cell_type": "markdown",
   "source": [
    "<font size = \"4\">\n",
    "\n",
    "Calculate $x + y$"
   ],
   "id": "bd8e0029f37f2d9b"
  },
  {
   "metadata": {},
   "cell_type": "code",
   "outputs": [],
   "execution_count": null,
   "source": [
    "def fn_sum(x, y):\n",
    "    return x + y"
   ],
   "id": "4501b4a0d818c5c"
  },
  {
   "metadata": {},
   "cell_type": "code",
   "outputs": [],
   "execution_count": null,
   "source": "fn_sum(1,2)",
   "id": "16269c09f6121cbe"
  },
  {
   "metadata": {},
   "cell_type": "code",
   "outputs": [],
   "execution_count": null,
   "source": [
    "# (a) Define function\n",
    "fn_sum = lambda x,y: x + y\n",
    "\n",
    "# (b) Run function\n",
    "fn_sum(1,2)"
   ],
   "id": "2e581feea9a81b97"
  },
  {
   "metadata": {},
   "cell_type": "markdown",
   "source": [
    "<font size = \"4\">\n",
    "Example 4: <br>\n",
    "Rewrite the PMF of Poisson distribution using a Lambda function."
   ],
   "id": "c9fd48bcdafc0e20"
  },
  {
   "metadata": {},
   "cell_type": "code",
   "outputs": [],
   "execution_count": null,
   "source": [
    "# Write your own code:\n",
    "lambda_fn_poisson_pmf = lambda lambda_val,k: lambda_val**k * np.exp(-lambda_val) / np.prod(np.arange(1, k+1))"
   ],
   "id": "db6056189c9c4e75"
  },
  {
   "metadata": {},
   "cell_type": "code",
   "outputs": [],
   "execution_count": null,
   "source": "print(lambda_fn_poisson_pmf(1.5, 1))",
   "id": "dc44b3555070c935"
  },
  {
   "metadata": {},
   "cell_type": "markdown",
   "source": [
    "<font size = \"4\">\n",
    "Example 5:\n",
    "    \n",
    "Boolean + Functions\n",
    "\n",
    "- Write a function called `fn_iseligible_vote`\n",
    "- This functions returns a boolean value that checks whether $age \\ge$ 18\n",
    "- Test your function with $age = 20$"
   ],
   "id": "232ed1a10bbfee9b"
  },
  {
   "metadata": {},
   "cell_type": "code",
   "outputs": [],
   "execution_count": null,
   "source": [
    "# Write your own code\n",
    "fn_iseligible_vote = lambda age: age>=18"
   ],
   "id": "33543da7a629c759"
  },
  {
   "metadata": {},
   "cell_type": "code",
   "outputs": [],
   "execution_count": null,
   "source": "fn_iseligible_vote(20)",
   "id": "96c06a4c8588180d"
  },
  {
   "metadata": {},
   "cell_type": "markdown",
   "source": [
    "## 5. Functions for Visualisation \n",
    "\n",
    "<font size = \"4\">\n",
    "Returning a value is not always necesary, you can write:\n",
    "\n",
    "```python\n",
    "\n",
    "    #---- DEFINE\n",
    "    def my_function(parameter):\n",
    "        body\n",
    "```"
   ],
   "id": "3641db3c65abfeb3"
  },
  {
   "metadata": {},
   "cell_type": "markdown",
   "source": [
    "<font size = \"4\">\n",
    "\n",
    "Example 6: A customized plot\n",
    "\n",
    "- You can use functions to store your favorite aesthetic\n",
    "- The function name: `red_histogram`.\n",
    "- Parameters include `vec_x` and `title`."
   ],
   "id": "bfb3a24e70c40ab8"
  },
  {
   "metadata": {},
   "cell_type": "code",
   "outputs": [],
   "execution_count": null,
   "source": [
    "# Define the function\n",
    "def red_histogram(vec_x,title):\n",
    "    plt.hist(x = vec_x, color = \"red\")\n",
    "    plt.title(title)\n",
    "    plt.ylabel(\"Frequency\")\n",
    "    plt.show()\n",
    "\n",
    "carfeatures = pd.read_csv(\"data/features.csv\")\n",
    "\n",
    "red_histogram(vec_x = carfeatures[\"weight\"], title = \"Histogram\")\n",
    "red_histogram(vec_x = carfeatures[\"acceleration\"], title = \"Histogram\")\n"
   ],
   "id": "ac6e62ba9ef42cd0"
  },
  {
   "metadata": {},
   "cell_type": "markdown",
   "source": [
    "<font size = \"4\">\n",
    "\n",
    "Example 7:\n",
    "\n",
    "Create a function that computes a red scatter plot named `red_scatterplot` <br>\n",
    " that takes `vec_y` and `vec_x` inputs.\n",
    "\n",
    "When you call the function, you can plot **acceleration** and **weight**."
   ],
   "id": "a3acfcad5e2ea046"
  },
  {
   "metadata": {},
   "cell_type": "code",
   "outputs": [],
   "execution_count": null,
   "source": [
    "# Write your own code\n",
    "# Define the function\n",
    "def color_scatterplot(vec_x, vec_y, name_x, name_y, title, color='red'):\n",
    "    plt.scatter(vec_x, vec_y, color=color)\n",
    "    plt.xlabel(name_x)\n",
    "    plt.ylabel(name_y)\n",
    "    plt.title(title)\n",
    "    plt.show()"
   ],
   "id": "52172ca3de88589a"
  },
  {
   "metadata": {},
   "cell_type": "code",
   "outputs": [],
   "execution_count": null,
   "source": [
    "# call the function\n",
    "acce = carfeatures[\"acceleration\"]\n",
    "weight = carfeatures[\"weight\"]\n",
    "# color_scatterplot(acce, weight, 'acceleation', 'weight', 'scatterplot')\n",
    "color_scatterplot(acce, weight, 'acceleation', 'weight', 'scatterplot', \n",
    "                  'skyblue')"
   ],
   "id": "b4ee408814c276dd"
  },
  {
   "metadata": {},
   "cell_type": "markdown",
   "source": "## 6. Arrays\n",
   "id": "c32c93bbbf2f95ce"
  },
  {
   "metadata": {},
   "cell_type": "markdown",
   "source": [
    "<font size='4'>\n",
    "    "
   ],
   "id": "651ce646737e9c15"
  },
  {
   "metadata": {},
   "cell_type": "markdown",
   "source": [
    "<font size='4'>\n",
    "\n",
    "- Array is a grid that contains values of the same data type.\n",
    "- Previously, we covered 1-dim, but it can go beyond that."
   ],
   "id": "690a0f294f4a3375"
  },
  {
   "metadata": {},
   "cell_type": "code",
   "outputs": [],
   "execution_count": null,
   "source": [
    "# 1-dim array\n",
    "arr_1d = np.array([1,2,3], dtype=np.int64)\n",
    "# dtype is optional: depending on your operation system, \n",
    "# it is np.int32 or np.int64 by default.\n",
    "print(arr_1d)\n",
    "\n",
    "# 2-dim array\n",
    "arr_2d = np.array([[1,2,3], [4,5,6]], dtype=np.int64)\n",
    "print(arr_2d)\n",
    "\n",
    "# 3-dim array\n",
    "arr_3d = np.array([[[1,2,3],\n",
    "                    [4,5,6]],\n",
    "                   [[-1,-2,-3],\n",
    "                    [-4,-5,-6]]], dtype=np.int64)\n",
    "print(arr_3d)\n",
    "print()"
   ],
   "id": "f80aa380c74e7ef5"
  },
  {
   "metadata": {},
   "cell_type": "markdown",
   "source": [
    "<font size='4'>\n",
    "\n",
    "- The array holds and represents any regular data in a *structured* way.\n",
    "- An array contains information about *raw data (memory address)*, how to *locate an element (shape and indexing)*, and how to *interpret an elemnt (data type)*.\n",
    "    - For this class, you should at least know the shape of two dimension array (matrix).\n",
    "    - The shape of a 2d-array is a coordiante of two integers (known as `tuple`, a regular data type).\n",
    "    - Axis 0 corresponds to # of rows, while axis 1 corresponds to # of columns."
   ],
   "id": "9f9e855dbb456f8e"
  },
  {
   "metadata": {},
   "cell_type": "code",
   "outputs": [],
   "execution_count": null,
   "source": [
    "# print out memory address\n",
    "print(arr_2d.data)\n",
    "\n",
    "# print out shape\n",
    "print(arr_2d.shape)\n",
    "\n",
    "# print out data type\n",
    "print(arr_2d.dtype)"
   ],
   "id": "f3eb3270e9c9cee"
  },
  {
   "metadata": {},
   "cell_type": "markdown",
   "source": [
    "<font size='4'>\n",
    "\n",
    "Useful functions to initialize an empty numpy array.\n",
    "\n",
    "- `np.ones()`\n",
    "- `np.zeros()`\n",
    "- `np.random.random()`\n",
    "- `np.empty()`\n",
    "- `np.full()`\n",
    "- `np.arange()`\n",
    "- `np.linspace()`"
   ],
   "id": "146570c2b2aa7794"
  },
  {
   "metadata": {},
   "cell_type": "code",
   "outputs": [],
   "execution_count": null,
   "source": [
    "# Create an array of ones\n",
    "ones_array = np.ones((3, 4))\n",
    "print(\"Ones Array:\")\n",
    "print(ones_array)\n",
    "print()\n",
    "\n",
    "# Create an array of zeros\n",
    "zeros_array = np.zeros((2, 3, 4), dtype=np.int16)\n",
    "print(\"Zeros Array:\")\n",
    "print(zeros_array)\n",
    "print()\n",
    "\n",
    "# Create an array with random values\n",
    "# Return random floats in the half-open interval [0.0, 1.0). \n",
    "random_array = np.random.random((2, 2))\n",
    "print(\"Random Array:\")\n",
    "print(random_array)\n",
    "print()\n",
    "\n",
    "# Create an empty array\n",
    "empty_array = np.empty((3, 2))\n",
    "print(\"Empty Array:\")\n",
    "print(empty_array)\n",
    "print()\n",
    "\n",
    "# Create a full array\n",
    "full_array = np.full((2, 2), 7)\n",
    "print(\"Full Array:\")\n",
    "print(full_array)\n",
    "print()\n",
    "\n",
    "# Create an array of evenly-spaced values\n",
    "arange_array = np.arange(10, 25, 5)\n",
    "print(\"Arange Array:\")\n",
    "print(arange_array)\n",
    "print()\n",
    "\n",
    "# Create an array of evenly-spaced values\n",
    "# the stop value is set to achieve by default (endpoint=True), you can modify it by adding\n",
    "# an optional parameter endpoint=False\n",
    "# https://numpy.org/doc/stable/reference/generated/numpy.linspace.html \n",
    "print(np.linspace(0,2,9))\n",
    "print(np.linspace(0,2,9,endpoint=False))\n",
    "print()"
   ],
   "id": "7eef5b675d91f17b"
  },
  {
   "metadata": {},
   "cell_type": "markdown",
   "source": [
    "<font size='4'>\n",
    "    \n",
    "Useful functions to load np arrays from text (.txt files)\n",
    "- `np.loadtxt()`\n",
    "- `np.genfromtxt()`."
   ],
   "id": "db25862b1c5f5b42"
  },
  {
   "metadata": {},
   "cell_type": "code",
   "outputs": [],
   "execution_count": null,
   "source": [
    "# This is your data in the text file\n",
    "# Value1  Value2  Value3\n",
    "# 0.2536  0.1008  0.3857\n",
    "# 0.4839  0.4536  0.3561\n",
    "# 0.1292  0.6875  0.5929\n",
    "# 0.1781  0.3049  0.8928\n",
    "# 0.6253  0.3486  0.8791\n",
    "\n",
    "# Import your data\n",
    "x, y, z = np.loadtxt('./data/working_example_data.txt', skiprows=1, unpack=True)\n",
    "# unpack option allows you to import dataset and return the columns as separate arrays.\n",
    "# https://numpy.org/doc/stable/reference/generated/numpy.loadtxt.html\n",
    "print(x)\n",
    "print(y)\n",
    "print(z)"
   ],
   "id": "cf70591f7221a05b"
  },
  {
   "metadata": {},
   "cell_type": "code",
   "outputs": [],
   "execution_count": null,
   "source": [
    "# Your data in the text file\n",
    "# Value1  Value2  Value3\n",
    "# 0.4839  0.4536  0.3561\n",
    "# 0.1292  0.6875  MISSING\n",
    "# 0.1781  0.3049  0.8928\n",
    "# MISSING 0.5801  0.2038\n",
    "# 0.5993  0.4357  0.7410\n",
    "\n",
    "# np.genfromtxt() can checking the missing values\n",
    "# https://numpy.org/doc/stable/reference/generated/numpy.genfromtxt.html#numpy.genfromtxt\n",
    "my_arr2 = np.genfromtxt('./data/working_example_data_2.txt', skip_header=1, filling_values=-9)\n",
    "print(my_arr2)"
   ],
   "id": "961475f64808836"
  },
  {
   "metadata": {},
   "cell_type": "markdown",
   "source": [
    "<font size='4'>\n",
    "\n",
    "How to save your numpy arrays?\n",
    "\n",
    "- `np.savetxt()`: save an array to a text file\n",
    "- `np.save()`: save an array to a binary file in NumPy .npy format\n",
    "- `np.savez()`: save several arrays into an uncompressed .npz archive\n",
    "- `np.savez_compressed()`: save several arrays into a compressed .npz archive\n",
    "- `np.load()`: load arrays from `.npy` and `.npz` formats.\n",
    "    - In presence of multiple arrays, we need advanced syntax (either `.keys()` or `with`) to access specific elements.\n",
    "    - Will cover it later."
   ],
   "id": "f7f2e4313b70bcfd"
  },
  {
   "metadata": {},
   "cell_type": "code",
   "outputs": [],
   "execution_count": null,
   "source": [
    "# Let's take my_arr2 as an example.\n",
    "\n",
    "np.savetxt('./data/my_arr2_delimiter_space.txt', my_arr2, delimiter=' ')\n",
    "np.savetxt('./data/my_arr2_delimiter_comma.txt', my_arr2, delimiter=',')\n",
    "\n",
    "np.save('./data/my_arr2.npy', my_arr2)\n",
    "# https://numpy.org/doc/stable/reference/generated/numpy.save.html\n",
    "\n",
    "np.savez('./data/my_arr2.npz', my_arr2)\n",
    "# https://numpy.org/doc/stable/reference/generated/numpy.savez.html#numpy.savez\n",
    "\n",
    "np.savez_compressed('./data/my_arr2_comp.npz', my_arr2)\n",
    "# https://numpy.org/doc/stable/reference/generated/numpy.savez_compressed.html#numpy.savez_compressed\n",
    "\n",
    "# save multiple arrays\n",
    "np.savez('./data/my_arr2_twice.npz', my_arr2, my_arr2)\n",
    "np.savez_compressed('./data/my_arr2_twice_comp.npz', my_arr2, my_arr2)\n",
    "\n",
    "my_arr2_twice = np.load('./data/my_arr2_twice.npz')\n",
    "print(my_arr2_twice)\n",
    "print(my_arr2_twice['arr_0'])\n",
    "print(my_arr2_twice['arr_1'])\n",
    "print(' ')"
   ],
   "id": "4afccf99ec320abb"
  },
  {
   "metadata": {},
   "cell_type": "code",
   "outputs": [],
   "execution_count": null,
   "source": [
    "# Or we can use with function\n",
    "with np.load('./data/my_arr2_twice.npz') as my_arr2_twice:\n",
    "    arr_0 = my_arr2_twice['arr_0']\n",
    "    arr_1 = my_arr2_twice['arr_1']\n",
    "print(arr_0)\n",
    "print(arr_1)"
   ],
   "id": "64a48fe41bea0e64"
  }
 ],
 "metadata": {},
 "nbformat": 4,
 "nbformat_minor": 5
}
