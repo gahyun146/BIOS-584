{
 "cells": [
  {
   "cell_type": "markdown",
   "id": "4d46814e-68e9-424a-982e-1cbcc88e1a80",
   "metadata": {},
   "source": [
    "Gahyun Lim"
   ]
  },
  {
   "cell_type": "code",
   "execution_count": 57,
   "id": "f9ac67e2-ed5c-44f0-878d-5af698222102",
   "metadata": {},
   "outputs": [
    {
     "name": "stdout",
     "output_type": "stream",
     "text": [
      "['cat1', 'cat2', 'cat3', 1, 2, 3, 4, 5, 6]\n"
     ]
    }
   ],
   "source": [
    "list_mixed = ['cat1', 'cat2', 'cat3', 1, 2, 3, 4, 5, 6]\n",
    "print(list_mixed)"
   ]
  },
  {
   "cell_type": "code",
   "execution_count": 58,
   "id": "aa98cf60-e7b7-4a49-bf23-fd3cbf044929",
   "metadata": {},
   "outputs": [
    {
     "name": "stdout",
     "output_type": "stream",
     "text": [
      "['cat1', 'cat2', 'cat3', 1, 2, 3, 4, 5, 6, '7']\n"
     ]
    }
   ],
   "source": [
    "list_mixed.append('7')\n",
    "print(list_mixed)"
   ]
  },
  {
   "cell_type": "code",
   "execution_count": 59,
   "id": "eb057a0a-de17-4e54-a182-50bcc054e054",
   "metadata": {},
   "outputs": [
    {
     "name": "stdout",
     "output_type": "stream",
     "text": [
      "[]\n"
     ]
    }
   ],
   "source": [
    "list_mixed.clear()\n",
    "print(list_mixed)"
   ]
  },
  {
   "cell_type": "code",
   "execution_count": 60,
   "id": "bd667034-43fa-4439-aa4a-1200b872ea3d",
   "metadata": {},
   "outputs": [
    {
     "name": "stdout",
     "output_type": "stream",
     "text": [
      "['cat1', 'cat2', 'cat3', 1, 2, 3, 4, 5, 6]\n"
     ]
    },
    {
     "data": {
      "text/plain": [
       "['cat1', 'cat2', 'cat3', 1, 2, 3, 4, 5, 6]"
      ]
     },
     "execution_count": 60,
     "metadata": {},
     "output_type": "execute_result"
    }
   ],
   "source": [
    "list_mixed = ['cat1', 'cat2', 'cat3', 1, 2, 3, 4, 5, 6]\n",
    "print(list_mixed)\n",
    "list_mixed.copy()"
   ]
  },
  {
   "cell_type": "code",
   "execution_count": 61,
   "id": "e6e02852-0335-4b16-a937-78994c1c2dcd",
   "metadata": {},
   "outputs": [
    {
     "data": {
      "text/plain": [
       "1"
      ]
     },
     "execution_count": 61,
     "metadata": {},
     "output_type": "execute_result"
    }
   ],
   "source": [
    "list_mixed.count('cat1')"
   ]
  },
  {
   "cell_type": "code",
   "execution_count": 62,
   "id": "a7d4e99c-20c9-4301-b2db-0f2ec70b3226",
   "metadata": {},
   "outputs": [
    {
     "data": {
      "text/plain": [
       "1"
      ]
     },
     "execution_count": 62,
     "metadata": {},
     "output_type": "execute_result"
    }
   ],
   "source": [
    "list_mixed.index('cat2')"
   ]
  },
  {
   "cell_type": "code",
   "execution_count": 63,
   "id": "23b5588a-4b5b-4c30-bfe6-2a5f01746d6d",
   "metadata": {},
   "outputs": [
    {
     "name": "stdout",
     "output_type": "stream",
     "text": [
      "['cat1', 'cat2', 'cat2', 'cat3', 1, 2, 3, 4, 5, 6]\n"
     ]
    }
   ],
   "source": [
    "list_mixed.insert(1, 'cat2')\n",
    "print(list_mixed)"
   ]
  },
  {
   "cell_type": "code",
   "execution_count": 64,
   "id": "4164b9f1-3e6e-4a59-b4d1-576eb2b4fbdd",
   "metadata": {},
   "outputs": [
    {
     "name": "stdout",
     "output_type": "stream",
     "text": [
      "['cat1', 'cat2', 'cat3', 1, 2, 3, 4, 5, 6]\n"
     ]
    }
   ],
   "source": [
    "list_mixed.pop(2)\n",
    "print(list_mixed)"
   ]
  },
  {
   "cell_type": "code",
   "execution_count": 65,
   "id": "71e8c8e1-0b37-4b7d-946b-16d2c4b65448",
   "metadata": {},
   "outputs": [
    {
     "name": "stdout",
     "output_type": "stream",
     "text": [
      "['cat1', 'cat3', 1, 2, 3, 4, 5, 6]\n"
     ]
    }
   ],
   "source": [
    "list_mixed.remove('cat2')\n",
    "print(list_mixed)"
   ]
  },
  {
   "cell_type": "code",
   "execution_count": 66,
   "id": "f5f14865-73a4-4812-9058-0c0ea72928c4",
   "metadata": {},
   "outputs": [
    {
     "name": "stdout",
     "output_type": "stream",
     "text": [
      "[6, 5, 4, 3, 2, 1, 'cat3', 'cat1']\n"
     ]
    }
   ],
   "source": [
    "list_mixed.reverse()\n",
    "print(list_mixed)"
   ]
  },
  {
   "cell_type": "code",
   "execution_count": null,
   "id": "d7160c28-226c-4336-9d98-ba24aa829475",
   "metadata": {},
   "outputs": [],
   "source": []
  },
  {
   "cell_type": "code",
   "execution_count": null,
   "id": "f324c626-fef3-4e3e-9698-32cd183fe55c",
   "metadata": {},
   "outputs": [],
   "source": []
  }
 ],
 "metadata": {
  "kernelspec": {
   "display_name": "Python 3 (ipykernel)",
   "language": "python",
   "name": "python3"
  },
  "language_info": {
   "codemirror_mode": {
    "name": "ipython",
    "version": 3
   },
   "file_extension": ".py",
   "mimetype": "text/x-python",
   "name": "python",
   "nbconvert_exporter": "python",
   "pygments_lexer": "ipython3",
   "version": "3.13.7"
  }
 },
 "nbformat": 4,
 "nbformat_minor": 5
}
